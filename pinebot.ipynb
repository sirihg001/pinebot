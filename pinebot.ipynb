{
  "cells": [
    {
      "cell_type": "code",
      "execution_count": 2,
      "metadata": {
        "id": "7DRho2Cuv7bS"
      },
      "outputs": [],
      "source": [
        "\n",
        "import os\n",
        "\n",
        "OPENAI_API_KEY = \"\""
      ]
    },
    {
      "cell_type": "code",
      "execution_count": 2,
      "metadata": {
        "colab": {
          "base_uri": "https://localhost:8080/"
        },
        "collapsed": true,
        "id": "tDmnfia5P2sK",
        "outputId": "69e12f44-93a5-42cc-934e-d65c422651c3"
      },
      "outputs": [
        {
          "name": "stdout",
          "output_type": "stream",
          "text": [
            "Requirement already satisfied: openai in c:\\users\\sirih\\anaconda3\\lib\\site-packages (1.51.0)\n",
            "Requirement already satisfied: anyio<5,>=3.5.0 in c:\\users\\sirih\\anaconda3\\lib\\site-packages (from openai) (4.2.0)\n",
            "Requirement already satisfied: distro<2,>=1.7.0 in c:\\users\\sirih\\anaconda3\\lib\\site-packages (from openai) (1.9.0)\n",
            "Requirement already satisfied: httpx<1,>=0.23.0 in c:\\users\\sirih\\anaconda3\\lib\\site-packages (from openai) (0.27.2)\n",
            "Requirement already satisfied: jiter<1,>=0.4.0 in c:\\users\\sirih\\anaconda3\\lib\\site-packages (from openai) (0.5.0)\n",
            "Requirement already satisfied: pydantic<3,>=1.9.0 in c:\\users\\sirih\\anaconda3\\lib\\site-packages (from openai) (2.9.2)\n",
            "Requirement already satisfied: sniffio in c:\\users\\sirih\\anaconda3\\lib\\site-packages (from openai) (1.3.0)\n",
            "Requirement already satisfied: tqdm>4 in c:\\users\\sirih\\anaconda3\\lib\\site-packages (from openai) (4.66.4)\n",
            "Requirement already satisfied: typing-extensions<5,>=4.11 in c:\\users\\sirih\\anaconda3\\lib\\site-packages (from openai) (4.11.0)\n",
            "Requirement already satisfied: idna>=2.8 in c:\\users\\sirih\\anaconda3\\lib\\site-packages (from anyio<5,>=3.5.0->openai) (3.10)\n",
            "Requirement already satisfied: exceptiongroup>=1.0.2 in c:\\users\\sirih\\anaconda3\\lib\\site-packages (from anyio<5,>=3.5.0->openai) (1.2.0)\n",
            "Requirement already satisfied: certifi in c:\\users\\sirih\\anaconda3\\lib\\site-packages (from httpx<1,>=0.23.0->openai) (2024.8.30)\n",
            "Requirement already satisfied: httpcore==1.* in c:\\users\\sirih\\anaconda3\\lib\\site-packages (from httpx<1,>=0.23.0->openai) (1.0.5)\n",
            "Requirement already satisfied: h11<0.15,>=0.13 in c:\\users\\sirih\\anaconda3\\lib\\site-packages (from httpcore==1.*->httpx<1,>=0.23.0->openai) (0.14.0)\n",
            "Requirement already satisfied: annotated-types>=0.6.0 in c:\\users\\sirih\\anaconda3\\lib\\site-packages (from pydantic<3,>=1.9.0->openai) (0.6.0)\n",
            "Requirement already satisfied: pydantic-core==2.23.4 in c:\\users\\sirih\\anaconda3\\lib\\site-packages (from pydantic<3,>=1.9.0->openai) (2.23.4)\n",
            "Requirement already satisfied: colorama in c:\\users\\sirih\\anaconda3\\lib\\site-packages (from tqdm>4->openai) (0.4.6)\n",
            "Note: you may need to restart the kernel to use updated packages.\n"
          ]
        }
      ],
      "source": [
        "pip install openai"
      ]
    },
    {
      "cell_type": "code",
      "execution_count": 3,
      "metadata": {
        "colab": {
          "base_uri": "https://localhost:8080/"
        },
        "collapsed": true,
        "id": "IhXnsJpp5-Sp",
        "outputId": "526d16f1-62e8-4702-b198-e711a6334306"
      },
      "outputs": [
        {
          "name": "stdout",
          "output_type": "stream",
          "text": [
            "Requirement already satisfied: langchain-community in c:\\users\\sirih\\anaconda3\\lib\\site-packages (0.3.1)Note: you may need to restart the kernel to use updated packages.\n",
            "\n",
            "Requirement already satisfied: PyYAML>=5.3 in c:\\users\\sirih\\anaconda3\\lib\\site-packages (from langchain-community) (6.0.1)\n",
            "Requirement already satisfied: SQLAlchemy<3,>=1.4 in c:\\users\\sirih\\anaconda3\\lib\\site-packages (from langchain-community) (2.0.27)\n",
            "Requirement already satisfied: aiohttp<4.0.0,>=3.8.3 in c:\\users\\sirih\\anaconda3\\lib\\site-packages (from langchain-community) (3.10.6)\n",
            "Requirement already satisfied: dataclasses-json<0.7,>=0.5.7 in c:\\users\\sirih\\anaconda3\\lib\\site-packages (from langchain-community) (0.6.7)\n",
            "Requirement already satisfied: langchain<0.4.0,>=0.3.1 in c:\\users\\sirih\\anaconda3\\lib\\site-packages (from langchain-community) (0.3.1)\n",
            "Requirement already satisfied: langchain-core<0.4.0,>=0.3.6 in c:\\users\\sirih\\anaconda3\\lib\\site-packages (from langchain-community) (0.3.6)\n",
            "Requirement already satisfied: langsmith<0.2.0,>=0.1.125 in c:\\users\\sirih\\anaconda3\\lib\\site-packages (from langchain-community) (0.1.128)\n",
            "Requirement already satisfied: numpy<2,>=1 in c:\\users\\sirih\\anaconda3\\lib\\site-packages (from langchain-community) (1.26.4)\n",
            "Requirement already satisfied: pydantic-settings<3.0.0,>=2.4.0 in c:\\users\\sirih\\anaconda3\\lib\\site-packages (from langchain-community) (2.5.2)\n",
            "Requirement already satisfied: requests<3,>=2 in c:\\users\\sirih\\anaconda3\\lib\\site-packages (from langchain-community) (2.31.0)\n",
            "Requirement already satisfied: tenacity!=8.4.0,<9.0.0,>=8.1.0 in c:\\users\\sirih\\anaconda3\\lib\\site-packages (from langchain-community) (8.2.3)\n",
            "Requirement already satisfied: aiohappyeyeballs>=2.3.0 in c:\\users\\sirih\\anaconda3\\lib\\site-packages (from aiohttp<4.0.0,>=3.8.3->langchain-community) (2.4.0)\n",
            "Requirement already satisfied: aiosignal>=1.1.2 in c:\\users\\sirih\\anaconda3\\lib\\site-packages (from aiohttp<4.0.0,>=3.8.3->langchain-community) (1.3.1)\n",
            "Requirement already satisfied: attrs>=17.3.0 in c:\\users\\sirih\\anaconda3\\lib\\site-packages (from aiohttp<4.0.0,>=3.8.3->langchain-community) (23.1.0)\n",
            "Requirement already satisfied: frozenlist>=1.1.1 in c:\\users\\sirih\\anaconda3\\lib\\site-packages (from aiohttp<4.0.0,>=3.8.3->langchain-community) (1.4.1)\n",
            "Requirement already satisfied: multidict<7.0,>=4.5 in c:\\users\\sirih\\anaconda3\\lib\\site-packages (from aiohttp<4.0.0,>=3.8.3->langchain-community) (6.1.0)\n",
            "Requirement already satisfied: yarl<2.0,>=1.12.0 in c:\\users\\sirih\\anaconda3\\lib\\site-packages (from aiohttp<4.0.0,>=3.8.3->langchain-community) (1.12.1)\n",
            "Requirement already satisfied: async-timeout<5.0,>=4.0 in c:\\users\\sirih\\anaconda3\\lib\\site-packages (from aiohttp<4.0.0,>=3.8.3->langchain-community) (4.0.3)\n",
            "Requirement already satisfied: marshmallow<4.0.0,>=3.18.0 in c:\\users\\sirih\\anaconda3\\lib\\site-packages (from dataclasses-json<0.7,>=0.5.7->langchain-community) (3.22.0)\n",
            "Requirement already satisfied: typing-inspect<1,>=0.4.0 in c:\\users\\sirih\\anaconda3\\lib\\site-packages (from dataclasses-json<0.7,>=0.5.7->langchain-community) (0.9.0)\n",
            "Requirement already satisfied: langchain-text-splitters<0.4.0,>=0.3.0 in c:\\users\\sirih\\anaconda3\\lib\\site-packages (from langchain<0.4.0,>=0.3.1->langchain-community) (0.3.0)\n",
            "Requirement already satisfied: pydantic<3.0.0,>=2.7.4 in c:\\users\\sirih\\anaconda3\\lib\\site-packages (from langchain<0.4.0,>=0.3.1->langchain-community) (2.9.2)\n",
            "Requirement already satisfied: jsonpatch<2.0,>=1.33 in c:\\users\\sirih\\anaconda3\\lib\\site-packages (from langchain-core<0.4.0,>=0.3.6->langchain-community) (1.33)\n",
            "Requirement already satisfied: packaging<25,>=23.2 in c:\\users\\sirih\\anaconda3\\lib\\site-packages (from langchain-core<0.4.0,>=0.3.6->langchain-community) (23.2)\n",
            "Requirement already satisfied: typing-extensions>=4.7 in c:\\users\\sirih\\anaconda3\\lib\\site-packages (from langchain-core<0.4.0,>=0.3.6->langchain-community) (4.11.0)\n",
            "Requirement already satisfied: httpx<1,>=0.23.0 in c:\\users\\sirih\\anaconda3\\lib\\site-packages (from langsmith<0.2.0,>=0.1.125->langchain-community) (0.27.2)\n",
            "Requirement already satisfied: orjson<4.0.0,>=3.9.14 in c:\\users\\sirih\\anaconda3\\lib\\site-packages (from langsmith<0.2.0,>=0.1.125->langchain-community) (3.10.7)\n",
            "Requirement already satisfied: python-dotenv>=0.21.0 in c:\\users\\sirih\\anaconda3\\lib\\site-packages (from pydantic-settings<3.0.0,>=2.4.0->langchain-community) (1.0.1)\n",
            "Requirement already satisfied: charset-normalizer<4,>=2 in c:\\users\\sirih\\anaconda3\\lib\\site-packages (from requests<3,>=2->langchain-community) (3.3.2)\n",
            "Requirement already satisfied: idna<4,>=2.5 in c:\\users\\sirih\\anaconda3\\lib\\site-packages (from requests<3,>=2->langchain-community) (3.10)\n",
            "Requirement already satisfied: urllib3<3,>=1.21.1 in c:\\users\\sirih\\anaconda3\\lib\\site-packages (from requests<3,>=2->langchain-community) (2.2.1)\n",
            "Requirement already satisfied: certifi>=2017.4.17 in c:\\users\\sirih\\anaconda3\\lib\\site-packages (from requests<3,>=2->langchain-community) (2024.8.30)\n",
            "Requirement already satisfied: greenlet!=0.4.17 in c:\\users\\sirih\\anaconda3\\lib\\site-packages (from SQLAlchemy<3,>=1.4->langchain-community) (3.1.1)\n",
            "Requirement already satisfied: anyio in c:\\users\\sirih\\anaconda3\\lib\\site-packages (from httpx<1,>=0.23.0->langsmith<0.2.0,>=0.1.125->langchain-community) (4.2.0)\n",
            "Requirement already satisfied: httpcore==1.* in c:\\users\\sirih\\anaconda3\\lib\\site-packages (from httpx<1,>=0.23.0->langsmith<0.2.0,>=0.1.125->langchain-community) (1.0.5)\n",
            "Requirement already satisfied: sniffio in c:\\users\\sirih\\anaconda3\\lib\\site-packages (from httpx<1,>=0.23.0->langsmith<0.2.0,>=0.1.125->langchain-community) (1.3.0)\n",
            "Requirement already satisfied: h11<0.15,>=0.13 in c:\\users\\sirih\\anaconda3\\lib\\site-packages (from httpcore==1.*->httpx<1,>=0.23.0->langsmith<0.2.0,>=0.1.125->langchain-community) (0.14.0)\n",
            "Requirement already satisfied: jsonpointer>=1.9 in c:\\users\\sirih\\anaconda3\\lib\\site-packages (from jsonpatch<2.0,>=1.33->langchain-core<0.4.0,>=0.3.6->langchain-community) (2.1)\n",
            "Requirement already satisfied: annotated-types>=0.6.0 in c:\\users\\sirih\\anaconda3\\lib\\site-packages (from pydantic<3.0.0,>=2.7.4->langchain<0.4.0,>=0.3.1->langchain-community) (0.6.0)\n",
            "Requirement already satisfied: pydantic-core==2.23.4 in c:\\users\\sirih\\anaconda3\\lib\\site-packages (from pydantic<3.0.0,>=2.7.4->langchain<0.4.0,>=0.3.1->langchain-community) (2.23.4)\n",
            "Requirement already satisfied: mypy-extensions>=0.3.0 in c:\\users\\sirih\\anaconda3\\lib\\site-packages (from typing-inspect<1,>=0.4.0->dataclasses-json<0.7,>=0.5.7->langchain-community) (1.0.0)\n",
            "Requirement already satisfied: exceptiongroup>=1.0.2 in c:\\users\\sirih\\anaconda3\\lib\\site-packages (from anyio->httpx<1,>=0.23.0->langsmith<0.2.0,>=0.1.125->langchain-community) (1.2.0)\n"
          ]
        }
      ],
      "source": [
        "pip install langchain-community"
      ]
    },
    {
      "cell_type": "code",
      "execution_count": 3,
      "metadata": {
        "colab": {
          "base_uri": "https://localhost:8080/"
        },
        "id": "QF1Z5G_A5piv",
        "outputId": "6756ddb6-18d2-4180-ffbd-4d0a8aa1cc10"
      },
      "outputs": [
        {
          "name": "stderr",
          "output_type": "stream",
          "text": [
            "C:\\Users\\sirih\\AppData\\Local\\Temp\\ipykernel_23832\\419181459.py:15: LangChainDeprecationWarning: The class `ChatOpenAI` was deprecated in LangChain 0.0.10 and will be removed in 1.0. An updated version of the class exists in the :class:`~langchain-openai package and should be used instead. To use it run `pip install -U :class:`~langchain-openai` and import as `from :class:`~langchain_openai import ChatOpenAI``.\n",
            "  model = ChatOpenAI(model=\"gpt-3.5-turbo\")\n"
          ]
        }
      ],
      "source": [
        "import getpass\n",
        "import os\n",
        "\n",
        "# Setting up environment variables\n",
        "os.environ[\"LANGCHAIN_TRACING_V2\"] = \"true\"\n",
        "os.environ[\"LANGCHAIN_API_KEY\"] = getpass.getpass(prompt=\"Enter your LangChain API key: \")\n",
        "\n",
        "# Prompt for OpenAI API Key\n",
        "os.environ[\"OPENAI_API_KEY\"] = getpass.getpass(prompt=\"Enter your OpenAI API key: \")\n",
        "os.environ['PINECONE_API_KEY'] = getpass.getpass(prompt='Enter your Pinecone API key: ')\n",
        "\n",
        "from langchain.chat_models import ChatOpenAI\n",
        "\n",
        "# Initialize the ChatOpenAI model\n",
        "model = ChatOpenAI(model=\"gpt-3.5-turbo\")\n"
      ]
    },
    {
      "cell_type": "code",
      "execution_count": 4,
      "metadata": {
        "id": "MOtNOzOUxHGX"
      },
      "outputs": [],
      "source": [
        "from langchain.chat_models import ChatOpenAI\n",
        "\n",
        "model = ChatOpenAI(openai_api_key=OPENAI_API_KEY, model=\"gpt-3.5-turbo\")"
      ]
    },
    {
      "cell_type": "code",
      "execution_count": 5,
      "metadata": {
        "colab": {
          "base_uri": "https://localhost:8080/"
        },
        "id": "7vHe6DZ47eEo",
        "outputId": "dddb6bae-a09d-4074-826c-cb49fa5a84fa"
      },
      "outputs": [
        {
          "data": {
            "text/plain": [
              "AIMessage(content='As of October 2021, Virat Kohli is the captain of the Indian cricket team in Test matches and One Day Internationals (ODIs), while Rohit Sharma is the captain in Twenty20 Internationals (T20Is).', additional_kwargs={}, response_metadata={'token_usage': {'completion_tokens': 50, 'prompt_tokens': 16, 'total_tokens': 66, 'completion_tokens_details': {'audio_tokens': None, 'reasoning_tokens': 0}, 'prompt_tokens_details': {'audio_tokens': None, 'cached_tokens': 0}}, 'model_name': 'gpt-3.5-turbo', 'system_fingerprint': None, 'finish_reason': 'stop', 'logprobs': None}, id='run-21075ba5-7cc8-44c6-a573-5288d8f91de3-0')"
            ]
          },
          "execution_count": 5,
          "metadata": {},
          "output_type": "execute_result"
        }
      ],
      "source": [
        "model.invoke(\"Who's the captain of indian cricket team?\")"
      ]
    },
    {
      "cell_type": "code",
      "execution_count": 6,
      "metadata": {
        "colab": {
          "base_uri": "https://localhost:8080/",
          "height": 36
        },
        "id": "ugkmP9dJ7ewo",
        "outputId": "bd2cb3ab-fb0e-46c0-e1fd-6668bc2bd8f9"
      },
      "outputs": [
        {
          "data": {
            "text/plain": [
              "'As of October 2021, the captain of the Indian cricket team is Virat Kohli for the Test format, Rohit Sharma for the ODI format, and Rohit Sharma for the T20 format.'"
            ]
          },
          "execution_count": 6,
          "metadata": {},
          "output_type": "execute_result"
        }
      ],
      "source": [
        "from langchain_core.output_parsers import StrOutputParser\n",
        "\n",
        "parser = StrOutputParser()\n",
        "\n",
        "chain = model | parser\n",
        "chain.invoke(\"Who's the captain of indian cricket team?\")"
      ]
    },
    {
      "cell_type": "code",
      "execution_count": 7,
      "metadata": {
        "colab": {
          "base_uri": "https://localhost:8080/",
          "height": 72
        },
        "id": "SMjgIdd58xRZ",
        "outputId": "4933c86e-40b8-469d-9728-67b4f1da24b0"
      },
      "outputs": [
        {
          "data": {
            "text/plain": [
              "'Human: \\nAnswer the question based on the context below. If you can\\'t\\nanswer the question, reply \"I don\\'t know\".\\n\\nContext: Mary\\'s sister is Susana\\n\\nQuestion: Who is Mary\\'s sister?\\n'"
            ]
          },
          "execution_count": 7,
          "metadata": {},
          "output_type": "execute_result"
        }
      ],
      "source": [
        "from langchain.prompts import ChatPromptTemplate\n",
        "\n",
        "template = \"\"\"\n",
        "Answer the question based on the context below. If you can't\n",
        "answer the question, reply \"I don't know\".\n",
        "\n",
        "Context: {context}\n",
        "\n",
        "Question: {question}\n",
        "\"\"\"\n",
        "\n",
        "prompt = ChatPromptTemplate.from_template(template)\n",
        "prompt.format(context=\"Mary's sister is Susana\", question=\"Who is Mary's sister?\")"
      ]
    },
    {
      "cell_type": "code",
      "execution_count": 8,
      "metadata": {
        "colab": {
          "base_uri": "https://localhost:8080/",
          "height": 36
        },
        "id": "HIP-3eWe84e2",
        "outputId": "4d647fb4-60d2-4a28-b8c7-0d4847924a2c"
      },
      "outputs": [
        {
          "data": {
            "text/plain": [
              "'Susana'"
            ]
          },
          "execution_count": 8,
          "metadata": {},
          "output_type": "execute_result"
        }
      ],
      "source": [
        "chain = prompt | model | parser\n",
        "chain.invoke({\n",
        "    \"context\": \"Mary's sister is Susana\",\n",
        "    \"question\": \"Who is Mary's sister?\"\n",
        "})"
      ]
    },
    {
      "cell_type": "code",
      "execution_count": 9,
      "metadata": {
        "id": "QoeHIJM68-Ho"
      },
      "outputs": [],
      "source": [
        "translation_prompt = ChatPromptTemplate.from_template(\n",
        "    \"Translate {answer} to {language}\"\n",
        ")\n"
      ]
    },
    {
      "cell_type": "code",
      "execution_count": 10,
      "metadata": {
        "colab": {
          "base_uri": "https://localhost:8080/",
          "height": 36
        },
        "id": "37eFJSdY9B1o",
        "outputId": "775ce2cd-3f50-4a7c-b4a7-961597965c40"
      },
      "outputs": [
        {
          "data": {
            "text/plain": [
              "'ಮೇರಿಗೆ ಒಂದು ತಂಗಿ ಸುಸಾನಾ ಇದ್ದಾರೆ.'"
            ]
          },
          "execution_count": 10,
          "metadata": {},
          "output_type": "execute_result"
        }
      ],
      "source": [
        "from operator import itemgetter\n",
        "\n",
        "translation_chain = (\n",
        "    {\"answer\": chain, \"language\": itemgetter(\"language\")} | translation_prompt | model | parser\n",
        ")\n",
        "\n",
        "translation_chain.invoke(\n",
        "    {\n",
        "        \"context\": \"Mary's sister is Susana. She doesn't have any more siblings.\",\n",
        "        \"question\": \"How many sisters does Mary have?\",\n",
        "        \"language\": \"kannada\",\n",
        "    }\n",
        ")\n"
      ]
    },
    {
      "cell_type": "code",
      "execution_count": 12,
      "metadata": {
        "colab": {
          "base_uri": "https://localhost:8080/"
        },
        "collapsed": true,
        "id": "TEJB_0W19xGh",
        "outputId": "80508979-3a6b-48b7-a7b4-127e89f49ba5"
      },
      "outputs": [
        {
          "name": "stdout",
          "output_type": "stream",
          "text": [
            "Requirement already satisfied: pypdf in c:\\users\\sirih\\anaconda3\\lib\\site-packages (5.0.0)\n",
            "Requirement already satisfied: typing_extensions>=4.0 in c:\\users\\sirih\\anaconda3\\lib\\site-packages (from pypdf) (4.11.0)\n",
            "Note: you may need to restart the kernel to use updated packages.\n"
          ]
        }
      ],
      "source": [
        "pip install pypdf"
      ]
    },
    {
      "cell_type": "code",
      "execution_count": 11,
      "metadata": {
        "id": "NWYlnbq59U0G"
      },
      "outputs": [],
      "source": [
        "from langchain_community.document_loaders import PyPDFLoader\n",
        "\n",
        "loader = PyPDFLoader(\"C:/Desktop/FA24/Capstone/nsfdoc.pdf\")\n",
        "text_documents = loader.load()"
      ]
    },
    {
      "cell_type": "code",
      "execution_count": 12,
      "metadata": {
        "id": "IkUjmF3I94vg"
      },
      "outputs": [],
      "source": [
        "from langchain.text_splitter import RecursiveCharacterTextSplitter\n",
        "\n",
        "text_splitter = RecursiveCharacterTextSplitter(chunk_size=1000, chunk_overlap=20)\n",
        "documents = text_splitter.split_documents(text_documents)"
      ]
    },
    {
      "cell_type": "code",
      "execution_count": 13,
      "metadata": {
        "colab": {
          "base_uri": "https://localhost:8080/"
        },
        "id": "ChMqxZz998C-",
        "outputId": "e60d2072-fb9b-4866-ef06-adb995fa8ebe"
      },
      "outputs": [
        {
          "data": {
            "text/plain": [
              "Document(metadata={'source': 'C:/Desktop/FA24/Capstone/nsfdoc.pdf', 'page': 0}, page_content=\"NSF 24-589: Computer and Information Science and\\nEngineering : Core Programs\\nProgram Solicitation\\nDocument Information\\nDocument History\\nPosted: July 10, 2024\\nReplaces: NSF 23-561\\nView the program page\\nNational Science Foundation\\nDirectorate for Computer and Information Science and Engineering\\n\\xa0\\xa0\\xa0\\xa0\\xa0Division of Computing and Communication Foundations\\n\\xa0\\xa0\\xa0\\xa0\\xa0Division of Information and Intelligent Systems\\n\\xa0\\xa0\\xa0\\xa0\\xa0Division of Computer and Network Systems\\n\\xa0\\xa0\\xa0\\xa0\\xa0O\\x00ce of Advanced Cyberinfrastructure\\nSubmission Window Date(s) (due by 5 p.m. submitting organization's local time):  \\nJuly 18, 2024 - September 30, 2024 Accepted anytime during this submission window  \\nOctober 1 - September 30, Annually Thereafter \\nSMALL Projects\\nOctober 01, 2024 - October 23, 2024, October 1 - October 23, Annually Thereafter  \\nOAC Core Projects\\nOctober 01, 2024 - October 23, 2024, October 1 - October 23, Annually Thereafter  \\nMEDIUM Projects \\nTable Of Contents\\n1\")"
            ]
          },
          "execution_count": 13,
          "metadata": {},
          "output_type": "execute_result"
        }
      ],
      "source": [
        "documents[0]"
      ]
    },
    {
      "cell_type": "code",
      "execution_count": 17,
      "metadata": {
        "colab": {
          "base_uri": "https://localhost:8080/"
        },
        "collapsed": true,
        "id": "R5UPYB5W_QYV",
        "outputId": "abfe5d1a-23ff-44d9-839a-1d54f20d9150"
      },
      "outputs": [
        {
          "name": "stdout",
          "output_type": "stream",
          "text": [
            "Requirement already satisfied: tiktoken in c:\\users\\sirih\\anaconda3\\lib\\site-packages (0.7.0)\n",
            "Requirement already satisfied: regex>=2022.1.18 in c:\\users\\sirih\\anaconda3\\lib\\site-packages (from tiktoken) (2024.7.24)\n",
            "Requirement already satisfied: requests>=2.26.0 in c:\\users\\sirih\\anaconda3\\lib\\site-packages (from tiktoken) (2.31.0)\n",
            "Requirement already satisfied: charset-normalizer<4,>=2 in c:\\users\\sirih\\anaconda3\\lib\\site-packages (from requests>=2.26.0->tiktoken) (3.3.2)\n",
            "Requirement already satisfied: idna<4,>=2.5 in c:\\users\\sirih\\anaconda3\\lib\\site-packages (from requests>=2.26.0->tiktoken) (3.10)\n",
            "Requirement already satisfied: urllib3<3,>=1.21.1 in c:\\users\\sirih\\anaconda3\\lib\\site-packages (from requests>=2.26.0->tiktoken) (2.2.1)\n",
            "Requirement already satisfied: certifi>=2017.4.17 in c:\\users\\sirih\\anaconda3\\lib\\site-packages (from requests>=2.26.0->tiktoken) (2024.8.30)\n",
            "Note: you may need to restart the kernel to use updated packages.\n"
          ]
        }
      ],
      "source": [
        "pip install tiktoken"
      ]
    },
    {
      "cell_type": "code",
      "execution_count": 14,
      "metadata": {
        "colab": {
          "base_uri": "https://localhost:8080/"
        },
        "id": "tKI1WCvF-gt6",
        "outputId": "9cb7919a-b629-4de2-f23b-aae1fef3691e"
      },
      "outputs": [
        {
          "name": "stderr",
          "output_type": "stream",
          "text": [
            "C:\\Users\\sirih\\AppData\\Local\\Temp\\ipykernel_23832\\2059879141.py:3: LangChainDeprecationWarning: The class `OpenAIEmbeddings` was deprecated in LangChain 0.0.9 and will be removed in 1.0. An updated version of the class exists in the :class:`~langchain-openai package and should be used instead. To use it run `pip install -U :class:`~langchain-openai` and import as `from :class:`~langchain_openai import OpenAIEmbeddings``.\n",
            "  embeddings = OpenAIEmbeddings()\n"
          ]
        },
        {
          "name": "stdout",
          "output_type": "stream",
          "text": [
            "Embedding length: 1536\n",
            "[-0.0013731546370698735, -0.03448213495714542, -0.011498215137592697, 0.0012331804687103108, -0.02617439147967433, 0.009077208676376585, -0.015739667516337194, 0.001725045078595848, -0.011854797116396238, -0.03325598923321449]\n"
          ]
        }
      ],
      "source": [
        "from langchain_community.embeddings import OpenAIEmbeddings\n",
        "\n",
        "embeddings = OpenAIEmbeddings()\n",
        "embedded_query = embeddings.embed_query(\"Who is Mary's sister?\")\n",
        "\n",
        "print(f\"Embedding length: {len(embedded_query)}\")\n",
        "print(embedded_query[:10])"
      ]
    },
    {
      "cell_type": "code",
      "execution_count": 15,
      "metadata": {
        "id": "wZInFvBd-3hk"
      },
      "outputs": [],
      "source": [
        "sentence1 = embeddings.embed_query(\"Bangalore is the capital of karnataka\")\n",
        "sentence2 = embeddings.embed_query(\"India's capital city is Delhi\")"
      ]
    },
    {
      "cell_type": "code",
      "execution_count": 16,
      "metadata": {
        "colab": {
          "base_uri": "https://localhost:8080/"
        },
        "id": "VxobjgqB_Ztg",
        "outputId": "1ff74ec8-30d2-45a4-e8c3-fddce75dbc91"
      },
      "outputs": [
        {
          "data": {
            "text/plain": [
              "(0.7012209694190399, 0.703019180129683)"
            ]
          },
          "execution_count": 16,
          "metadata": {},
          "output_type": "execute_result"
        }
      ],
      "source": [
        "from sklearn.metrics.pairwise import cosine_similarity\n",
        "\n",
        "query_sentence1_similarity = cosine_similarity([embedded_query], [sentence1])[0][0]\n",
        "query_sentence2_similarity = cosine_similarity([embedded_query], [sentence2])[0][0]\n",
        "\n",
        "query_sentence1_similarity, query_sentence2_similarity"
      ]
    },
    {
      "cell_type": "code",
      "execution_count": 21,
      "metadata": {
        "colab": {
          "base_uri": "https://localhost:8080/"
        },
        "collapsed": true,
        "id": "Yre1TsRy_34y",
        "outputId": "b9d53733-a2ef-4668-b43e-0d2183655393"
      },
      "outputs": [
        {
          "name": "stdout",
          "output_type": "stream",
          "text": [
            "Collecting docarray\n",
            "  Downloading docarray-0.40.0-py3-none-any.whl.metadata (36 kB)\n",
            "Requirement already satisfied: numpy>=1.17.3 in c:\\users\\sirih\\anaconda3\\lib\\site-packages (from docarray) (1.26.4)\n",
            "Requirement already satisfied: orjson>=3.8.2 in c:\\users\\sirih\\anaconda3\\lib\\site-packages (from docarray) (3.10.7)\n",
            "Requirement already satisfied: pydantic>=1.10.8 in c:\\users\\sirih\\anaconda3\\lib\\site-packages (from docarray) (2.9.2)\n",
            "Requirement already satisfied: rich>=13.1.0 in c:\\users\\sirih\\appdata\\roaming\\python\\python39\\site-packages (from docarray) (13.7.1)\n",
            "Collecting types-requests>=2.28.11.6 (from docarray)\n",
            "  Downloading types_requests-2.32.0.20240914-py3-none-any.whl.metadata (1.9 kB)\n",
            "Requirement already satisfied: typing-inspect>=0.8.0 in c:\\users\\sirih\\anaconda3\\lib\\site-packages (from docarray) (0.9.0)\n",
            "Requirement already satisfied: annotated-types>=0.6.0 in c:\\users\\sirih\\anaconda3\\lib\\site-packages (from pydantic>=1.10.8->docarray) (0.6.0)\n",
            "Requirement already satisfied: pydantic-core==2.23.4 in c:\\users\\sirih\\anaconda3\\lib\\site-packages (from pydantic>=1.10.8->docarray) (2.23.4)\n",
            "Requirement already satisfied: typing-extensions>=4.6.1 in c:\\users\\sirih\\anaconda3\\lib\\site-packages (from pydantic>=1.10.8->docarray) (4.11.0)\n",
            "Requirement already satisfied: markdown-it-py>=2.2.0 in c:\\users\\sirih\\appdata\\roaming\\python\\python39\\site-packages (from rich>=13.1.0->docarray) (3.0.0)\n",
            "Requirement already satisfied: pygments<3.0.0,>=2.13.0 in c:\\users\\sirih\\anaconda3\\lib\\site-packages (from rich>=13.1.0->docarray) (2.15.1)\n",
            "Requirement already satisfied: urllib3>=2 in c:\\users\\sirih\\anaconda3\\lib\\site-packages (from types-requests>=2.28.11.6->docarray) (2.2.1)\n",
            "Requirement already satisfied: mypy-extensions>=0.3.0 in c:\\users\\sirih\\anaconda3\\lib\\site-packages (from typing-inspect>=0.8.0->docarray) (1.0.0)\n",
            "Requirement already satisfied: mdurl~=0.1 in c:\\users\\sirih\\anaconda3\\lib\\site-packages (from markdown-it-py>=2.2.0->rich>=13.1.0->docarray) (0.1.2)\n",
            "Downloading docarray-0.40.0-py3-none-any.whl (270 kB)\n",
            "   ---------------------------------------- 0.0/270.2 kB ? eta -:--:--\n",
            "   ---------------- ----------------------- 112.6/270.2 kB 3.3 MB/s eta 0:00:01\n",
            "   ---------------------------------------- 270.2/270.2 kB 4.2 MB/s eta 0:00:00\n",
            "Downloading types_requests-2.32.0.20240914-py3-none-any.whl (15 kB)\n",
            "Installing collected packages: types-requests, docarray\n",
            "Successfully installed docarray-0.40.0 types-requests-2.32.0.20240914\n",
            "Note: you may need to restart the kernel to use updated packages.\n"
          ]
        }
      ],
      "source": [
        "pip install docarray"
      ]
    },
    {
      "cell_type": "code",
      "execution_count": 17,
      "metadata": {
        "colab": {
          "base_uri": "https://localhost:8080/"
        },
        "id": "BTL8vCQ4_d5d",
        "outputId": "ca2378ec-14c5-4a50-c696-e8db338bf5b8"
      },
      "outputs": [
        {
          "name": "stdout",
          "output_type": "stream",
          "text": [
            "WARNING:tensorflow:From c:\\Users\\sirih\\anaconda3\\lib\\site-packages\\keras\\losses.py:2674: The name tf.losses.sparse_softmax_cross_entropy is deprecated. Please use tf.compat.v1.losses.sparse_softmax_cross_entropy instead.\n",
            "\n"
          ]
        },
        {
          "name": "stderr",
          "output_type": "stream",
          "text": [
            "c:\\Users\\sirih\\anaconda3\\lib\\site-packages\\pydantic\\_migration.py:283: UserWarning: `pydantic.error_wrappers:ValidationError` has been moved to `pydantic:ValidationError`.\n",
            "  warnings.warn(f'`{import_path}` has been moved to `{new_location}`.')\n"
          ]
        }
      ],
      "source": [
        "from langchain_community.vectorstores import DocArrayInMemorySearch\n",
        "\n",
        "vectorstore1 = DocArrayInMemorySearch.from_texts(\n",
        "    [\n",
        "        \"Mary's sister is Susana\",\n",
        "        \"John and Tommy are brothers\",\n",
        "        \"Patricia likes white cars\",\n",
        "        \"Pedro's mother is a teacher\",\n",
        "        \"Lucia drives an Audi\",\n",
        "        \"Mary has two siblings\",\n",
        "    ],\n",
        "    embedding=embeddings,\n",
        ")"
      ]
    },
    {
      "cell_type": "code",
      "execution_count": 18,
      "metadata": {
        "colab": {
          "base_uri": "https://localhost:8080/"
        },
        "id": "Cfm5NImEAE0O",
        "outputId": "83e8a892-61f6-4c2e-d9df-e2645e9d14c7"
      },
      "outputs": [
        {
          "data": {
            "text/plain": [
              "[(Document(metadata={}, page_content=\"Mary's sister is Susana\"),\n",
              "  0.9173394801008794),\n",
              " (Document(metadata={}, page_content='Mary has two siblings'),\n",
              "  0.9044728659809689),\n",
              " (Document(metadata={}, page_content='John and Tommy are brothers'),\n",
              "  0.8013463844876171),\n",
              " (Document(metadata={}, page_content=\"Pedro's mother is a teacher\"),\n",
              "  0.7680513346139912),\n",
              " (Document(metadata={}, page_content='Lucia drives an Audi'),\n",
              "  0.7516621182198154)]"
            ]
          },
          "execution_count": 18,
          "metadata": {},
          "output_type": "execute_result"
        }
      ],
      "source": [
        "vectorstore1.similarity_search_with_score(query=\"Who is Mary's sister?\", k=5)"
      ]
    },
    {
      "cell_type": "code",
      "execution_count": 19,
      "metadata": {
        "colab": {
          "base_uri": "https://localhost:8080/"
        },
        "id": "YJlmxf0AAIxQ",
        "outputId": "295266e5-3b44-47df-80b1-8dba9745615e"
      },
      "outputs": [
        {
          "data": {
            "text/plain": [
              "[Document(metadata={}, page_content=\"Mary's sister is Susana\"),\n",
              " Document(metadata={}, page_content='Mary has two siblings'),\n",
              " Document(metadata={}, page_content='John and Tommy are brothers'),\n",
              " Document(metadata={}, page_content=\"Pedro's mother is a teacher\")]"
            ]
          },
          "execution_count": 19,
          "metadata": {},
          "output_type": "execute_result"
        }
      ],
      "source": [
        "retriever1 = vectorstore1.as_retriever()\n",
        "retriever1.invoke(\"Who is Mary's sister?\")"
      ]
    },
    {
      "cell_type": "code",
      "execution_count": 20,
      "metadata": {
        "colab": {
          "base_uri": "https://localhost:8080/"
        },
        "id": "NFkfyLPTAc1R",
        "outputId": "f775d955-8f4b-4e59-c05e-f140ba2f469a"
      },
      "outputs": [
        {
          "data": {
            "text/plain": [
              "{'context': [Document(metadata={}, page_content='Patricia likes white cars'),\n",
              "  Document(metadata={}, page_content='Lucia drives an Audi'),\n",
              "  Document(metadata={}, page_content=\"Pedro's mother is a teacher\"),\n",
              "  Document(metadata={}, page_content=\"Mary's sister is Susana\")],\n",
              " 'question': \"What color is Patricia's car?\"}"
            ]
          },
          "execution_count": 20,
          "metadata": {},
          "output_type": "execute_result"
        }
      ],
      "source": [
        "from langchain_core.runnables import RunnableParallel, RunnablePassthrough\n",
        "\n",
        "setup = RunnableParallel(context=retriever1, question=RunnablePassthrough())\n",
        "setup.invoke(\"What color is Patricia's car?\")"
      ]
    },
    {
      "cell_type": "code",
      "execution_count": 21,
      "metadata": {
        "colab": {
          "base_uri": "https://localhost:8080/",
          "height": 36
        },
        "id": "VmJcYQn4Adk6",
        "outputId": "dac84665-e817-458d-b0b8-7b02e54a5a06"
      },
      "outputs": [
        {
          "data": {
            "text/plain": [
              "'White'"
            ]
          },
          "execution_count": 21,
          "metadata": {},
          "output_type": "execute_result"
        }
      ],
      "source": [
        "chain = setup | prompt | model | parser\n",
        "chain.invoke(\"What color is Patricia's car?\")"
      ]
    },
    {
      "cell_type": "code",
      "execution_count": 22,
      "metadata": {
        "colab": {
          "base_uri": "https://localhost:8080/",
          "height": 36
        },
        "id": "DoYqmfXqAg6V",
        "outputId": "5dfd5439-d5f0-4415-a180-4eefa05e0811"
      },
      "outputs": [
        {
          "data": {
            "text/plain": [
              "'Lucia drives an Audi.'"
            ]
          },
          "execution_count": 22,
          "metadata": {},
          "output_type": "execute_result"
        }
      ],
      "source": [
        "chain.invoke(\"What car does Lucia drive?\")"
      ]
    },
    {
      "cell_type": "code",
      "execution_count": 23,
      "metadata": {
        "id": "lpRmjvowAj8-"
      },
      "outputs": [],
      "source": [
        "vectorstore2 = DocArrayInMemorySearch.from_documents(documents, embeddings)"
      ]
    },
    {
      "cell_type": "code",
      "execution_count": 24,
      "metadata": {
        "colab": {
          "base_uri": "https://localhost:8080/",
          "height": 72
        },
        "id": "tWsooSpnAoTZ",
        "outputId": "78df0e92-6c98-47ac-e273-bccfad613178"
      },
      "outputs": [
        {
          "data": {
            "text/plain": [
              "'Funding refers to the financial support provided for research, education, and training projects through grants and cooperative agreements by organizations like the National Science Foundation.'"
            ]
          },
          "execution_count": 24,
          "metadata": {},
          "output_type": "execute_result"
        }
      ],
      "source": [
        "chain = (\n",
        "    {\"context\": vectorstore2.as_retriever(), \"question\": RunnablePassthrough()}\n",
        "    | prompt\n",
        "    | model\n",
        "    | parser\n",
        ")\n",
        "chain.invoke(\"What is funding?\")"
      ]
    },
    {
      "cell_type": "code",
      "execution_count": 26,
      "metadata": {
        "colab": {
          "base_uri": "https://localhost:8080/",
          "height": 126
        },
        "id": "GyyfdmD7Q9nr",
        "outputId": "221a9a5b-921d-4f48-a69d-cec9d78b784a"
      },
      "outputs": [
        {
          "data": {
            "text/plain": [
              "'Yes, there are restrictions on the number of proposals an individual can submit as a Principal Investigator (PI) or Co-PI. In the CISE: Core Programs, during any contiguous 12-month period, an individual may not participate as PI, co-PI, or Senior/Key Personnel in more than two proposals across all project classes.'"
            ]
          },
          "execution_count": 26,
          "metadata": {},
          "output_type": "execute_result"
        }
      ],
      "source": [
        "chain.invoke(\"Are there restrictions on the number of proposals an individual can submit as a Principal Investigator (PI) or Co-PI?\")"
      ]
    },
    {
      "cell_type": "code",
      "execution_count": 31,
      "metadata": {
        "colab": {
          "base_uri": "https://localhost:8080/"
        },
        "collapsed": true,
        "id": "ojrou2gUBc35",
        "outputId": "6777f820-9cf0-4b7b-81ff-dfb7ab51a70b"
      },
      "outputs": [
        {
          "name": "stdout",
          "output_type": "stream",
          "text": [
            "Collecting pinecone-client\n",
            "  Using cached pinecone_client-5.0.1-py3-none-any.whl.metadata (19 kB)\n",
            "Requirement already satisfied: certifi>=2019.11.17 in c:\\users\\sirih\\miniconda3\\lib\\site-packages (from pinecone-client) (2024.7.4)\n",
            "Collecting pinecone-plugin-inference<2.0.0,>=1.0.3 (from pinecone-client)\n",
            "  Using cached pinecone_plugin_inference-1.1.0-py3-none-any.whl.metadata (2.2 kB)\n",
            "Collecting pinecone-plugin-interface<0.0.8,>=0.0.7 (from pinecone-client)\n",
            "  Using cached pinecone_plugin_interface-0.0.7-py3-none-any.whl.metadata (1.2 kB)\n",
            "Requirement already satisfied: tqdm>=4.64.1 in c:\\users\\sirih\\miniconda3\\lib\\site-packages (from pinecone-client) (4.66.4)\n",
            "Collecting typing-extensions>=3.7.4 (from pinecone-client)\n",
            "  Using cached typing_extensions-4.12.2-py3-none-any.whl.metadata (3.0 kB)\n",
            "Requirement already satisfied: urllib3>=1.26.5 in c:\\users\\sirih\\miniconda3\\lib\\site-packages (from pinecone-client) (2.2.2)\n",
            "Requirement already satisfied: colorama in c:\\users\\sirih\\miniconda3\\lib\\site-packages (from tqdm>=4.64.1->pinecone-client) (0.4.6)\n",
            "Using cached pinecone_client-5.0.1-py3-none-any.whl (244 kB)\n",
            "Using cached pinecone_plugin_inference-1.1.0-py3-none-any.whl (85 kB)\n",
            "Using cached pinecone_plugin_interface-0.0.7-py3-none-any.whl (6.2 kB)\n",
            "Using cached typing_extensions-4.12.2-py3-none-any.whl (37 kB)\n",
            "Installing collected packages: typing-extensions, pinecone-plugin-interface, pinecone-plugin-inference, pinecone-client\n",
            "Successfully installed pinecone-client-5.0.1 pinecone-plugin-inference-1.1.0 pinecone-plugin-interface-0.0.7 typing-extensions-4.12.2\n"
          ]
        }
      ],
      "source": [
        "!pip install pinecone-client"
      ]
    },
    {
      "cell_type": "code",
      "execution_count": 35,
      "metadata": {
        "colab": {
          "base_uri": "https://localhost:8080/"
        },
        "collapsed": true,
        "id": "k1z_LBg9CNgN",
        "outputId": "4cab54d1-c288-4933-82ca-53419156e6ef"
      },
      "outputs": [
        {
          "name": "stdout",
          "output_type": "stream",
          "text": [
            "Collecting langchain-pinecone\n",
            "  Using cached langchain_pinecone-0.2.0-py3-none-any.whl.metadata (1.7 kB)\n",
            "Collecting aiohttp<3.10,>=3.9.5 (from langchain-pinecone)\n",
            "  Downloading aiohttp-3.9.5-cp39-cp39-win_amd64.whl.metadata (7.7 kB)\n",
            "Requirement already satisfied: langchain-core<0.4,>=0.3 in c:\\users\\sirih\\anaconda3\\lib\\site-packages (from langchain-pinecone) (0.3.6)\n",
            "Requirement already satisfied: numpy<2,>=1 in c:\\users\\sirih\\anaconda3\\lib\\site-packages (from langchain-pinecone) (1.26.4)\n",
            "Requirement already satisfied: pinecone-client<6.0.0,>=5.0.0 in c:\\users\\sirih\\anaconda3\\lib\\site-packages (from langchain-pinecone) (5.0.1)\n",
            "Requirement already satisfied: aiosignal>=1.1.2 in c:\\users\\sirih\\anaconda3\\lib\\site-packages (from aiohttp<3.10,>=3.9.5->langchain-pinecone) (1.3.1)\n",
            "Requirement already satisfied: attrs>=17.3.0 in c:\\users\\sirih\\anaconda3\\lib\\site-packages (from aiohttp<3.10,>=3.9.5->langchain-pinecone) (23.1.0)\n",
            "Requirement already satisfied: frozenlist>=1.1.1 in c:\\users\\sirih\\anaconda3\\lib\\site-packages (from aiohttp<3.10,>=3.9.5->langchain-pinecone) (1.4.1)\n",
            "Requirement already satisfied: multidict<7.0,>=4.5 in c:\\users\\sirih\\anaconda3\\lib\\site-packages (from aiohttp<3.10,>=3.9.5->langchain-pinecone) (6.1.0)\n",
            "Requirement already satisfied: yarl<2.0,>=1.0 in c:\\users\\sirih\\anaconda3\\lib\\site-packages (from aiohttp<3.10,>=3.9.5->langchain-pinecone) (1.12.1)\n",
            "Requirement already satisfied: async-timeout<5.0,>=4.0 in c:\\users\\sirih\\anaconda3\\lib\\site-packages (from aiohttp<3.10,>=3.9.5->langchain-pinecone) (4.0.3)\n",
            "Requirement already satisfied: PyYAML>=5.3 in c:\\users\\sirih\\anaconda3\\lib\\site-packages (from langchain-core<0.4,>=0.3->langchain-pinecone) (6.0.1)\n",
            "Requirement already satisfied: jsonpatch<2.0,>=1.33 in c:\\users\\sirih\\anaconda3\\lib\\site-packages (from langchain-core<0.4,>=0.3->langchain-pinecone) (1.33)\n",
            "Requirement already satisfied: langsmith<0.2.0,>=0.1.125 in c:\\users\\sirih\\anaconda3\\lib\\site-packages (from langchain-core<0.4,>=0.3->langchain-pinecone) (0.1.128)\n",
            "Requirement already satisfied: packaging<25,>=23.2 in c:\\users\\sirih\\anaconda3\\lib\\site-packages (from langchain-core<0.4,>=0.3->langchain-pinecone) (23.2)\n",
            "Requirement already satisfied: pydantic<3.0.0,>=2.5.2 in c:\\users\\sirih\\anaconda3\\lib\\site-packages (from langchain-core<0.4,>=0.3->langchain-pinecone) (2.9.2)\n",
            "Requirement already satisfied: tenacity!=8.4.0,<9.0.0,>=8.1.0 in c:\\users\\sirih\\anaconda3\\lib\\site-packages (from langchain-core<0.4,>=0.3->langchain-pinecone) (8.2.3)\n",
            "Requirement already satisfied: typing-extensions>=4.7 in c:\\users\\sirih\\anaconda3\\lib\\site-packages (from langchain-core<0.4,>=0.3->langchain-pinecone) (4.11.0)\n",
            "Requirement already satisfied: certifi>=2019.11.17 in c:\\users\\sirih\\anaconda3\\lib\\site-packages (from pinecone-client<6.0.0,>=5.0.0->langchain-pinecone) (2024.8.30)\n",
            "Requirement already satisfied: pinecone-plugin-inference<2.0.0,>=1.0.3 in c:\\users\\sirih\\anaconda3\\lib\\site-packages (from pinecone-client<6.0.0,>=5.0.0->langchain-pinecone) (1.1.0)\n",
            "Requirement already satisfied: pinecone-plugin-interface<0.0.8,>=0.0.7 in c:\\users\\sirih\\anaconda3\\lib\\site-packages (from pinecone-client<6.0.0,>=5.0.0->langchain-pinecone) (0.0.7)\n",
            "Requirement already satisfied: tqdm>=4.64.1 in c:\\users\\sirih\\anaconda3\\lib\\site-packages (from pinecone-client<6.0.0,>=5.0.0->langchain-pinecone) (4.66.4)\n",
            "Requirement already satisfied: urllib3>=1.26.0 in c:\\users\\sirih\\anaconda3\\lib\\site-packages (from pinecone-client<6.0.0,>=5.0.0->langchain-pinecone) (2.2.1)\n",
            "Requirement already satisfied: jsonpointer>=1.9 in c:\\users\\sirih\\anaconda3\\lib\\site-packages (from jsonpatch<2.0,>=1.33->langchain-core<0.4,>=0.3->langchain-pinecone) (2.1)\n",
            "Requirement already satisfied: httpx<1,>=0.23.0 in c:\\users\\sirih\\anaconda3\\lib\\site-packages (from langsmith<0.2.0,>=0.1.125->langchain-core<0.4,>=0.3->langchain-pinecone) (0.27.2)\n",
            "Requirement already satisfied: orjson<4.0.0,>=3.9.14 in c:\\users\\sirih\\anaconda3\\lib\\site-packages (from langsmith<0.2.0,>=0.1.125->langchain-core<0.4,>=0.3->langchain-pinecone) (3.10.7)\n",
            "Requirement already satisfied: requests<3,>=2 in c:\\users\\sirih\\anaconda3\\lib\\site-packages (from langsmith<0.2.0,>=0.1.125->langchain-core<0.4,>=0.3->langchain-pinecone) (2.31.0)\n",
            "Requirement already satisfied: annotated-types>=0.6.0 in c:\\users\\sirih\\anaconda3\\lib\\site-packages (from pydantic<3.0.0,>=2.5.2->langchain-core<0.4,>=0.3->langchain-pinecone) (0.6.0)\n",
            "Requirement already satisfied: pydantic-core==2.23.4 in c:\\users\\sirih\\anaconda3\\lib\\site-packages (from pydantic<3.0.0,>=2.5.2->langchain-core<0.4,>=0.3->langchain-pinecone) (2.23.4)\n",
            "Requirement already satisfied: colorama in c:\\users\\sirih\\anaconda3\\lib\\site-packages (from tqdm>=4.64.1->pinecone-client<6.0.0,>=5.0.0->langchain-pinecone) (0.4.6)\n",
            "Requirement already satisfied: idna>=2.0 in c:\\users\\sirih\\anaconda3\\lib\\site-packages (from yarl<2.0,>=1.0->aiohttp<3.10,>=3.9.5->langchain-pinecone) (3.10)\n",
            "Requirement already satisfied: anyio in c:\\users\\sirih\\anaconda3\\lib\\site-packages (from httpx<1,>=0.23.0->langsmith<0.2.0,>=0.1.125->langchain-core<0.4,>=0.3->langchain-pinecone) (4.2.0)\n",
            "Requirement already satisfied: httpcore==1.* in c:\\users\\sirih\\anaconda3\\lib\\site-packages (from httpx<1,>=0.23.0->langsmith<0.2.0,>=0.1.125->langchain-core<0.4,>=0.3->langchain-pinecone) (1.0.5)\n",
            "Requirement already satisfied: sniffio in c:\\users\\sirih\\anaconda3\\lib\\site-packages (from httpx<1,>=0.23.0->langsmith<0.2.0,>=0.1.125->langchain-core<0.4,>=0.3->langchain-pinecone) (1.3.0)\n",
            "Requirement already satisfied: h11<0.15,>=0.13 in c:\\users\\sirih\\anaconda3\\lib\\site-packages (from httpcore==1.*->httpx<1,>=0.23.0->langsmith<0.2.0,>=0.1.125->langchain-core<0.4,>=0.3->langchain-pinecone) (0.14.0)\n",
            "Requirement already satisfied: charset-normalizer<4,>=2 in c:\\users\\sirih\\anaconda3\\lib\\site-packages (from requests<3,>=2->langsmith<0.2.0,>=0.1.125->langchain-core<0.4,>=0.3->langchain-pinecone) (3.3.2)\n",
            "Requirement already satisfied: exceptiongroup>=1.0.2 in c:\\users\\sirih\\anaconda3\\lib\\site-packages (from anyio->httpx<1,>=0.23.0->langsmith<0.2.0,>=0.1.125->langchain-core<0.4,>=0.3->langchain-pinecone) (1.2.0)\n",
            "Using cached langchain_pinecone-0.2.0-py3-none-any.whl (11 kB)\n",
            "Downloading aiohttp-3.9.5-cp39-cp39-win_amd64.whl (371 kB)\n",
            "   ---------------------------------------- 0.0/371.6 kB ? eta -:--:--\n",
            "   - -------------------------------------- 10.2/371.6 kB ? eta -:--:--\n",
            "   ------- ------------------------------- 71.7/371.6 kB 975.2 kB/s eta 0:00:01\n",
            "   ---------------------------------------- 371.6/371.6 kB 3.3 MB/s eta 0:00:00\n",
            "Installing collected packages: aiohttp, langchain-pinecone\n",
            "  Attempting uninstall: aiohttp\n",
            "    Found existing installation: aiohttp 3.10.6\n",
            "    Uninstalling aiohttp-3.10.6:\n",
            "      Successfully uninstalled aiohttp-3.10.6\n",
            "Successfully installed aiohttp-3.9.5 langchain-pinecone-0.2.0\n",
            "Note: you may need to restart the kernel to use updated packages.\n"
          ]
        }
      ],
      "source": [
        "pip install langchain-pinecone"
      ]
    },
    {
      "cell_type": "code",
      "execution_count": 36,
      "metadata": {
        "id": "WvOnADduArYA"
      },
      "outputs": [],
      "source": [
        "from langchain_pinecone import PineconeVectorStore\n",
        "\n",
        "index_name = \"pinebot\"\n",
        "\n",
        "pinecone = PineconeVectorStore.from_documents(\n",
        "    documents, embeddings, index_name=index_name\n",
        ")"
      ]
    },
    {
      "cell_type": "code",
      "execution_count": 37,
      "metadata": {
        "colab": {
          "base_uri": "https://localhost:8080/"
        },
        "id": "QGjDK0FSR23m",
        "outputId": "139f9e21-5326-458e-a6c2-201d3fb91fee"
      },
      "outputs": [
        {
          "data": {
            "text/plain": [
              "[Document(id='34247479-f472-484c-af74-0657d105a94d', metadata={'page': 9.0, 'source': '/content/nsfdoc.pdf'}, page_content='peer review of developed theories and proofs, controlled experiments on appropriate simulators/emulators/testbeds,\\nuser studies, or prototype deployments. The plan should be appropriate for the size and scope of the project.\\nProposers to the OAC Core program are required to include either a validation or transition-to-practice plan for their\\nproposed research in the Project Description. A validation plan may include setup, mechanisms, metrics, and exploration\\nof leading-edge production systems (or equivalent simulated, emulated, or experimental systems). Transition-to-practice\\nentails planning for incorporation of research results into production research cyberinfrastructure.\\nACCESS TO EXPERIMENTAL RESEARCH CYBERINFRASTRUCTURE\\nPIs are encouraged to consider utilizing NSF-supported research infrastructure (such as the Platforms for Advanced\\nWireless Research , FABRIC , Chameleon , and CloudLab ) when formulating their research plans and'),\n",
              " Document(id='1501c7eb-3668-443a-af6f-c0ec32ea2e41', metadata={'page': 7.0, 'source': '/content/nsfdoc.pdf'}, page_content='Information Integration and Informatics (III) program [ Program Webpage ] supports research on computational\\napproaches to the full data lifecycle to maximize the utility of information resources; and\\nRobust Intelligence (RI) program [ Program Webpage ] supports computational research to understand and enable\\nintelligent systems in complex, realistic contexts.\\nOAC:\\nOAC Core Research (OAC Core) program [ Program Webpage ] supports translational research on the design,\\ndevelopment, deployment, experimentation, and application of advanced research cyberinfrastructure (CI) to\\nenable new frontiers of discovery and innovation.\\nPROJECT CLASSES\\nProposals submitted to this solicitation must be consistent with one of three project classes de\\x00ned below. Proposals will\\nbe considered for funding within their project classes.\\nSMALL Projects\\nSMALL projects are not accepted for the OAC Core Research program and will be returned without review if\\nsubmitted to OAC Core.'),\n",
              " Document(id='4d365bca-7633-4358-9fa5-d7998d2b2bce', metadata={'page': 9.0, 'source': '/content/nsfdoc.pdf'}, page_content='submitting proposals. Descriptions of the capabilities of each system and their availability can be found at their websites:\\nhttps://advancedwireless.org/ , https://fabric-testbed.net/ , https://www.chameleoncloud.org/ , and\\nhttps://cloudlab.us/ .\\nFor projects requiring access to high-performance computing resources, data infrastructure, or advanced visualization\\nresources at scales beyond what is available locally, PIs are encouraged to consider production scale and testbed\\nadvanced research cyberinfrastructure, such as those supported by the ACSS Program, the Frontera Leadership-class\\nsystem , the Partnership to Advance Throughput Computing , and others. Access to the broadening array of\\nadvanced cyberinfrastructure systems is coordinated through the ACCESS program. Descriptions of such infrastructure\\ncan be found at the following websites: https://www.nsf.gov/awardsearch/advancedSearchResult?\\nProgEleCode=7619&BooleanElement=Any&BooleanRef=Any&ActiveAwards=true ,')]"
            ]
          },
          "execution_count": 37,
          "metadata": {},
          "output_type": "execute_result"
        }
      ],
      "source": [
        "pinecone.similarity_search(\"Is research on emergent deception in multi-agent reinforcement learning (MARL) suitable for this solicitation?\")[:3]"
      ]
    },
    {
      "cell_type": "code",
      "execution_count": 39,
      "metadata": {
        "id": "xqQg4_2SSTrE"
      },
      "outputs": [],
      "source": [
        "chain = (\n",
        "    {\"context\": pinecone.as_retriever(), \"question\": RunnablePassthrough()}\n",
        "    | prompt\n",
        "    | model\n",
        "    | parser\n",
        ")\n"
      ]
    },
    {
      "cell_type": "code",
      "execution_count": 41,
      "metadata": {
        "colab": {
          "base_uri": "https://localhost:8080/",
          "height": 126
        },
        "id": "B9uUS5JfShZC",
        "outputId": "95146eee-fbba-46b0-cd12-b15a1e23c8be"
      },
      "outputs": [
        {
          "data": {
            "text/plain": [
              "'The key review criteria for proposals submitted under this solicitation are Intellectual Merit and Broader Impacts.'"
            ]
          },
          "execution_count": 41,
          "metadata": {},
          "output_type": "execute_result"
        }
      ],
      "source": [
        "chain.invoke(\"What are the key review criteria for proposals submitted under this solicitation?\")"
      ]
    },
    {
      "cell_type": "code",
      "execution_count": 42,
      "metadata": {
        "id": "ir3A8orkSkRf"
      },
      "outputs": [
        {
          "name": "stdout",
          "output_type": "stream",
          "text": [
            "Requirement already satisfied: streamlit in c:\\users\\sirih\\anaconda3\\lib\\site-packages (1.38.0)\n",
            "Requirement already satisfied: langchain in c:\\users\\sirih\\anaconda3\\lib\\site-packages (0.3.1)\n",
            "Requirement already satisfied: openai in c:\\users\\sirih\\anaconda3\\lib\\site-packages (1.51.0)\n",
            "Requirement already satisfied: pinecone-client in c:\\users\\sirih\\anaconda3\\lib\\site-packages (5.0.1)\n",
            "Requirement already satisfied: altair<6,>=4.0 in c:\\users\\sirih\\anaconda3\\lib\\site-packages (from streamlit) (5.4.1)\n",
            "Requirement already satisfied: blinker<2,>=1.0.0 in c:\\users\\sirih\\anaconda3\\lib\\site-packages (from streamlit) (1.8.1)\n",
            "Requirement already satisfied: cachetools<6,>=4.0 in c:\\users\\sirih\\anaconda3\\lib\\site-packages (from streamlit) (5.5.0)\n",
            "Requirement already satisfied: click<9,>=7.0 in c:\\users\\sirih\\anaconda3\\lib\\site-packages (from streamlit) (8.1.7)\n",
            "Requirement already satisfied: numpy<3,>=1.20 in c:\\users\\sirih\\anaconda3\\lib\\site-packages (from streamlit) (1.26.4)\n",
            "Requirement already satisfied: packaging<25,>=20 in c:\\users\\sirih\\anaconda3\\lib\\site-packages (from streamlit) (23.2)\n",
            "Requirement already satisfied: pandas<3,>=1.3.0 in c:\\users\\sirih\\anaconda3\\lib\\site-packages (from streamlit) (2.2.2)\n",
            "Requirement already satisfied: pillow<11,>=7.1.0 in c:\\users\\sirih\\anaconda3\\lib\\site-packages (from streamlit) (10.3.0)\n",
            "Requirement already satisfied: protobuf<6,>=3.20 in c:\\users\\sirih\\anaconda3\\lib\\site-packages (from streamlit) (3.20.3)\n",
            "Requirement already satisfied: pyarrow>=7.0 in c:\\users\\sirih\\anaconda3\\lib\\site-packages (from streamlit) (17.0.0)\n",
            "Requirement already satisfied: requests<3,>=2.27 in c:\\users\\sirih\\anaconda3\\lib\\site-packages (from streamlit) (2.31.0)\n",
            "Requirement already satisfied: rich<14,>=10.14.0 in c:\\users\\sirih\\appdata\\roaming\\python\\python39\\site-packages (from streamlit) (13.7.1)\n",
            "Requirement already satisfied: tenacity<9,>=8.1.0 in c:\\users\\sirih\\anaconda3\\lib\\site-packages (from streamlit) (8.2.3)\n",
            "Requirement already satisfied: toml<2,>=0.10.1 in c:\\users\\sirih\\anaconda3\\lib\\site-packages (from streamlit) (0.10.2)\n",
            "Requirement already satisfied: typing-extensions<5,>=4.3.0 in c:\\users\\sirih\\anaconda3\\lib\\site-packages (from streamlit) (4.11.0)\n",
            "Requirement already satisfied: gitpython!=3.1.19,<4,>=3.0.7 in c:\\users\\sirih\\anaconda3\\lib\\site-packages (from streamlit) (3.1.43)\n",
            "Requirement already satisfied: pydeck<1,>=0.8.0b4 in c:\\users\\sirih\\anaconda3\\lib\\site-packages (from streamlit) (0.9.1)\n",
            "Requirement already satisfied: tornado<7,>=6.0.3 in c:\\users\\sirih\\anaconda3\\lib\\site-packages (from streamlit) (6.3.3)\n",
            "Requirement already satisfied: watchdog<5,>=2.1.5 in c:\\users\\sirih\\anaconda3\\lib\\site-packages (from streamlit) (4.0.2)\n",
            "Requirement already satisfied: PyYAML>=5.3 in c:\\users\\sirih\\anaconda3\\lib\\site-packages (from langchain) (6.0.1)\n",
            "Requirement already satisfied: SQLAlchemy<3,>=1.4 in c:\\users\\sirih\\anaconda3\\lib\\site-packages (from langchain) (2.0.27)\n",
            "Requirement already satisfied: aiohttp<4.0.0,>=3.8.3 in c:\\users\\sirih\\anaconda3\\lib\\site-packages (from langchain) (3.9.5)\n",
            "Requirement already satisfied: async-timeout<5.0.0,>=4.0.0 in c:\\users\\sirih\\anaconda3\\lib\\site-packages (from langchain) (4.0.3)\n",
            "Requirement already satisfied: langchain-core<0.4.0,>=0.3.6 in c:\\users\\sirih\\anaconda3\\lib\\site-packages (from langchain) (0.3.6)\n",
            "Requirement already satisfied: langchain-text-splitters<0.4.0,>=0.3.0 in c:\\users\\sirih\\anaconda3\\lib\\site-packages (from langchain) (0.3.0)\n",
            "Requirement already satisfied: langsmith<0.2.0,>=0.1.17 in c:\\users\\sirih\\anaconda3\\lib\\site-packages (from langchain) (0.1.128)\n",
            "Requirement already satisfied: pydantic<3.0.0,>=2.7.4 in c:\\users\\sirih\\anaconda3\\lib\\site-packages (from langchain) (2.9.2)\n",
            "Requirement already satisfied: anyio<5,>=3.5.0 in c:\\users\\sirih\\anaconda3\\lib\\site-packages (from openai) (4.2.0)\n",
            "Requirement already satisfied: distro<2,>=1.7.0 in c:\\users\\sirih\\anaconda3\\lib\\site-packages (from openai) (1.9.0)\n",
            "Requirement already satisfied: httpx<1,>=0.23.0 in c:\\users\\sirih\\anaconda3\\lib\\site-packages (from openai) (0.27.2)\n",
            "Requirement already satisfied: jiter<1,>=0.4.0 in c:\\users\\sirih\\anaconda3\\lib\\site-packages (from openai) (0.5.0)\n",
            "Requirement already satisfied: sniffio in c:\\users\\sirih\\anaconda3\\lib\\site-packages (from openai) (1.3.0)\n",
            "Requirement already satisfied: tqdm>4 in c:\\users\\sirih\\anaconda3\\lib\\site-packages (from openai) (4.66.4)\n",
            "Requirement already satisfied: certifi>=2019.11.17 in c:\\users\\sirih\\anaconda3\\lib\\site-packages (from pinecone-client) (2024.8.30)\n",
            "Requirement already satisfied: pinecone-plugin-inference<2.0.0,>=1.0.3 in c:\\users\\sirih\\anaconda3\\lib\\site-packages (from pinecone-client) (1.1.0)\n",
            "Requirement already satisfied: pinecone-plugin-interface<0.0.8,>=0.0.7 in c:\\users\\sirih\\anaconda3\\lib\\site-packages (from pinecone-client) (0.0.7)\n",
            "Requirement already satisfied: urllib3>=1.26.0 in c:\\users\\sirih\\anaconda3\\lib\\site-packages (from pinecone-client) (2.2.1)\n",
            "Requirement already satisfied: aiosignal>=1.1.2 in c:\\users\\sirih\\anaconda3\\lib\\site-packages (from aiohttp<4.0.0,>=3.8.3->langchain) (1.3.1)\n",
            "Requirement already satisfied: attrs>=17.3.0 in c:\\users\\sirih\\anaconda3\\lib\\site-packages (from aiohttp<4.0.0,>=3.8.3->langchain) (23.1.0)\n",
            "Requirement already satisfied: frozenlist>=1.1.1 in c:\\users\\sirih\\anaconda3\\lib\\site-packages (from aiohttp<4.0.0,>=3.8.3->langchain) (1.4.1)\n",
            "Requirement already satisfied: multidict<7.0,>=4.5 in c:\\users\\sirih\\anaconda3\\lib\\site-packages (from aiohttp<4.0.0,>=3.8.3->langchain) (6.1.0)\n",
            "Requirement already satisfied: yarl<2.0,>=1.0 in c:\\users\\sirih\\anaconda3\\lib\\site-packages (from aiohttp<4.0.0,>=3.8.3->langchain) (1.12.1)\n",
            "Requirement already satisfied: jinja2 in c:\\users\\sirih\\anaconda3\\lib\\site-packages (from altair<6,>=4.0->streamlit) (3.1.3)\n",
            "Requirement already satisfied: jsonschema>=3.0 in c:\\users\\sirih\\anaconda3\\lib\\site-packages (from altair<6,>=4.0->streamlit) (4.19.2)\n",
            "Requirement already satisfied: narwhals>=1.5.2 in c:\\users\\sirih\\anaconda3\\lib\\site-packages (from altair<6,>=4.0->streamlit) (1.8.3)\n",
            "Requirement already satisfied: idna>=2.8 in c:\\users\\sirih\\anaconda3\\lib\\site-packages (from anyio<5,>=3.5.0->openai) (3.10)\n",
            "Requirement already satisfied: exceptiongroup>=1.0.2 in c:\\users\\sirih\\anaconda3\\lib\\site-packages (from anyio<5,>=3.5.0->openai) (1.2.0)\n",
            "Requirement already satisfied: colorama in c:\\users\\sirih\\anaconda3\\lib\\site-packages (from click<9,>=7.0->streamlit) (0.4.6)\n",
            "Requirement already satisfied: gitdb<5,>=4.0.1 in c:\\users\\sirih\\anaconda3\\lib\\site-packages (from gitpython!=3.1.19,<4,>=3.0.7->streamlit) (4.0.11)\n",
            "Requirement already satisfied: httpcore==1.* in c:\\users\\sirih\\anaconda3\\lib\\site-packages (from httpx<1,>=0.23.0->openai) (1.0.5)\n",
            "Requirement already satisfied: h11<0.15,>=0.13 in c:\\users\\sirih\\anaconda3\\lib\\site-packages (from httpcore==1.*->httpx<1,>=0.23.0->openai) (0.14.0)\n",
            "Requirement already satisfied: jsonpatch<2.0,>=1.33 in c:\\users\\sirih\\anaconda3\\lib\\site-packages (from langchain-core<0.4.0,>=0.3.6->langchain) (1.33)\n",
            "Requirement already satisfied: orjson<4.0.0,>=3.9.14 in c:\\users\\sirih\\anaconda3\\lib\\site-packages (from langsmith<0.2.0,>=0.1.17->langchain) (3.10.7)\n",
            "Requirement already satisfied: python-dateutil>=2.8.2 in c:\\users\\sirih\\anaconda3\\lib\\site-packages (from pandas<3,>=1.3.0->streamlit) (2.9.0.post0)\n",
            "Requirement already satisfied: pytz>=2020.1 in c:\\users\\sirih\\anaconda3\\lib\\site-packages (from pandas<3,>=1.3.0->streamlit) (2024.1)\n",
            "Requirement already satisfied: tzdata>=2022.7 in c:\\users\\sirih\\anaconda3\\lib\\site-packages (from pandas<3,>=1.3.0->streamlit) (2024.1)\n",
            "Requirement already satisfied: annotated-types>=0.6.0 in c:\\users\\sirih\\anaconda3\\lib\\site-packages (from pydantic<3.0.0,>=2.7.4->langchain) (0.6.0)\n",
            "Requirement already satisfied: pydantic-core==2.23.4 in c:\\users\\sirih\\anaconda3\\lib\\site-packages (from pydantic<3.0.0,>=2.7.4->langchain) (2.23.4)\n",
            "Requirement already satisfied: charset-normalizer<4,>=2 in c:\\users\\sirih\\anaconda3\\lib\\site-packages (from requests<3,>=2.27->streamlit) (3.3.2)\n",
            "Requirement already satisfied: markdown-it-py>=2.2.0 in c:\\users\\sirih\\appdata\\roaming\\python\\python39\\site-packages (from rich<14,>=10.14.0->streamlit) (3.0.0)\n",
            "Requirement already satisfied: pygments<3.0.0,>=2.13.0 in c:\\users\\sirih\\anaconda3\\lib\\site-packages (from rich<14,>=10.14.0->streamlit) (2.15.1)\n",
            "Requirement already satisfied: greenlet!=0.4.17 in c:\\users\\sirih\\anaconda3\\lib\\site-packages (from SQLAlchemy<3,>=1.4->langchain) (3.1.1)\n",
            "Requirement already satisfied: smmap<6,>=3.0.1 in c:\\users\\sirih\\anaconda3\\lib\\site-packages (from gitdb<5,>=4.0.1->gitpython!=3.1.19,<4,>=3.0.7->streamlit) (5.0.1)\n",
            "Requirement already satisfied: MarkupSafe>=2.0 in c:\\users\\sirih\\anaconda3\\lib\\site-packages (from jinja2->altair<6,>=4.0->streamlit) (2.1.3)\n",
            "Requirement already satisfied: jsonpointer>=1.9 in c:\\users\\sirih\\anaconda3\\lib\\site-packages (from jsonpatch<2.0,>=1.33->langchain-core<0.4.0,>=0.3.6->langchain) (2.1)\n",
            "Requirement already satisfied: jsonschema-specifications>=2023.03.6 in c:\\users\\sirih\\anaconda3\\lib\\site-packages (from jsonschema>=3.0->altair<6,>=4.0->streamlit) (2023.12.1)\n",
            "Requirement already satisfied: referencing>=0.28.4 in c:\\users\\sirih\\anaconda3\\lib\\site-packages (from jsonschema>=3.0->altair<6,>=4.0->streamlit) (0.35.1)\n",
            "Requirement already satisfied: rpds-py>=0.7.1 in c:\\users\\sirih\\anaconda3\\lib\\site-packages (from jsonschema>=3.0->altair<6,>=4.0->streamlit) (0.10.6)\n",
            "Requirement already satisfied: mdurl~=0.1 in c:\\users\\sirih\\anaconda3\\lib\\site-packages (from markdown-it-py>=2.2.0->rich<14,>=10.14.0->streamlit) (0.1.2)\n",
            "Requirement already satisfied: six>=1.5 in c:\\users\\sirih\\anaconda3\\lib\\site-packages (from python-dateutil>=2.8.2->pandas<3,>=1.3.0->streamlit) (1.16.0)\n",
            "Note: you may need to restart the kernel to use updated packages.\n"
          ]
        }
      ],
      "source": [
        "pip install streamlit langchain openai pinecone-client"
      ]
    },
    {
      "cell_type": "code",
      "execution_count": 43,
      "metadata": {},
      "outputs": [],
      "source": [
        "import streamlit as st\n",
        "from langchain_core.output_parsers import StrOutputParser\n",
        "from operator import itemgetter"
      ]
    },
    {
      "cell_type": "code",
      "execution_count": 45,
      "metadata": {},
      "outputs": [
        {
          "name": "stderr",
          "output_type": "stream",
          "text": [
            "2024-10-03 13:20:19.965 WARNING streamlit.runtime.scriptrunner_utils.script_run_context: Thread 'MainThread': missing ScriptRunContext! This warning can be ignored when running in bare mode.\n",
            "2024-10-03 13:20:38.925 WARNING streamlit.runtime.scriptrunner_utils.script_run_context: Thread 'MainThread': missing ScriptRunContext! This warning can be ignored when running in bare mode.\n",
            "2024-10-03 13:20:38.926 WARNING streamlit.runtime.scriptrunner_utils.script_run_context: Thread 'MainThread': missing ScriptRunContext! This warning can be ignored when running in bare mode.\n",
            "2024-10-03 13:20:38.926 WARNING streamlit.runtime.scriptrunner_utils.script_run_context: Thread 'MainThread': missing ScriptRunContext! This warning can be ignored when running in bare mode.\n",
            "2024-10-03 13:20:46.071 WARNING streamlit.runtime.scriptrunner_utils.script_run_context: Thread 'MainThread': missing ScriptRunContext! This warning can be ignored when running in bare mode.\n",
            "2024-10-03 13:20:46.073 WARNING streamlit.runtime.scriptrunner_utils.script_run_context: Thread 'MainThread': missing ScriptRunContext! This warning can be ignored when running in bare mode.\n",
            "2024-10-03 13:20:46.074 WARNING streamlit.runtime.scriptrunner_utils.script_run_context: Thread 'MainThread': missing ScriptRunContext! This warning can be ignored when running in bare mode.\n",
            "2024-10-03 13:20:55.465 WARNING streamlit.runtime.scriptrunner_utils.script_run_context: Thread 'MainThread': missing ScriptRunContext! This warning can be ignored when running in bare mode.\n",
            "2024-10-03 13:20:55.466 WARNING streamlit.runtime.scriptrunner_utils.script_run_context: Thread 'MainThread': missing ScriptRunContext! This warning can be ignored when running in bare mode.\n"
          ]
        }
      ],
      "source": [
        "if \"langchain_api_key\" not in st.session_state:\n",
        "    st.session_state[\"langchain_api_key\"] = getpass.getpass(prompt=\"Enter your LangChain API key: \")\n",
        "if \"openai_api_key\" not in st.session_state:\n",
        "    st.session_state[\"openai_api_key\"] = getpass.getpass(prompt=\"Enter your OpenAI API key: \")\n",
        "if \"pinecone_api_key\" not in st.session_state:\n",
        "    st.session_state[\"pinecone_api_key\"] = getpass.getpass(prompt=\"Enter your Pinecone API key: \")"
      ]
    },
    {
      "cell_type": "code",
      "execution_count": 46,
      "metadata": {},
      "outputs": [
        {
          "name": "stderr",
          "output_type": "stream",
          "text": [
            "2024-10-03 13:21:01.453 WARNING streamlit.runtime.scriptrunner_utils.script_run_context: Thread 'MainThread': missing ScriptRunContext! This warning can be ignored when running in bare mode.\n",
            "2024-10-03 13:21:01.455 WARNING streamlit.runtime.scriptrunner_utils.script_run_context: Thread 'MainThread': missing ScriptRunContext! This warning can be ignored when running in bare mode.\n",
            "2024-10-03 13:21:01.458 WARNING streamlit.runtime.scriptrunner_utils.script_run_context: Thread 'MainThread': missing ScriptRunContext! This warning can be ignored when running in bare mode.\n"
          ]
        }
      ],
      "source": [
        "os.environ[\"LANGCHAIN_TRACING_V2\"] = \"true\"\n",
        "os.environ[\"LANGCHAIN_API_KEY\"] = st.session_state[\"langchain_api_key\"]\n",
        "os.environ[\"OPENAI_API_KEY\"] = st.session_state[\"openai_api_key\"]\n",
        "os.environ['PINECONE_API_KEY'] = st.session_state[\"pinecone_api_key\"]"
      ]
    },
    {
      "cell_type": "code",
      "execution_count": 47,
      "metadata": {},
      "outputs": [],
      "source": [
        "model = ChatOpenAI(model=\"gpt-3.5-turbo\")\n",
        "parser = StrOutputParser()"
      ]
    },
    {
      "cell_type": "code",
      "execution_count": 50,
      "metadata": {},
      "outputs": [
        {
          "name": "stderr",
          "output_type": "stream",
          "text": [
            "2024-10-03 13:41:14.564 Thread 'MainThread': missing ScriptRunContext! This warning can be ignored when running in bare mode.\n",
            "2024-10-03 13:41:14.576 Thread 'MainThread': missing ScriptRunContext! This warning can be ignored when running in bare mode.\n",
            "2024-10-03 13:41:14.577 Thread 'MainThread': missing ScriptRunContext! This warning can be ignored when running in bare mode.\n",
            "2024-10-03 13:41:14.578 Thread 'MainThread': missing ScriptRunContext! This warning can be ignored when running in bare mode.\n",
            "2024-10-03 13:41:14.579 Thread 'MainThread': missing ScriptRunContext! This warning can be ignored when running in bare mode.\n",
            "2024-10-03 13:41:14.580 Thread 'MainThread': missing ScriptRunContext! This warning can be ignored when running in bare mode.\n"
          ]
        }
      ],
      "source": [
        "# Streamlit title and uploader\n",
        "st.title(\"PDF File Upload for Question Answering\")\n",
        "\n",
        "# File uploader for PDF files only\n",
        "uploaded_file = st.file_uploader(\"Upload your PDF file\", type=[\"pdf\"])\n"
      ]
    }
  ],
  "metadata": {
    "colab": {
      "provenance": []
    },
    "kernelspec": {
      "display_name": "base",
      "language": "python",
      "name": "python3"
    },
    "language_info": {
      "codemirror_mode": {
        "name": "ipython",
        "version": 3
      },
      "file_extension": ".py",
      "mimetype": "text/x-python",
      "name": "python",
      "nbconvert_exporter": "python",
      "pygments_lexer": "ipython3",
      "version": "3.9.19"
    }
  },
  "nbformat": 4,
  "nbformat_minor": 0
}
